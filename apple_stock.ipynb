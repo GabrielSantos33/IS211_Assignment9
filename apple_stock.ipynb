{
 "cells": [
  {
   "cell_type": "code",
   "execution_count": null,
   "metadata": {},
   "outputs": [],
   "source": [
    "import urllib.request\n",
    "from bs4 import BeautifulSoup\n",
    "import json\n",
    "import html.parser\n",
    "\n",
    "url = 'http://www.nasdaq.com/market-activity/stocks/aapl/historical '\n",
    "page = urllib.request.urlopen(url)\n",
    "soup = BeautifulSoup(page.read())\n",
    "\n",
    "\n",
    "def apple_stock():\n",
    "    data = []\n",
    "    fhandler = soup.find_all('tr')\n",
    "\n",
    "    for rows in fhandler:\n",
    "        try:\n",
    "            if len(rows.find_all(('td', {'class': 'span data-reactid'}))) == 7:\n",
    "                date = rows.contents[0].get_text()\n",
    "                close = rows.contents[5].get_text()\n",
    "                data.append((date, close))\n",
    "                json_string = {\n",
    "                    \"Date\": date,\n",
    "                    \"Closed Stock Price\": close,\n",
    "                }\n",
    "                print(json.dumps(json_string))\n",
    "        except:\n",
    "            print('bad url')\n",
    "            continue\n",
    "    return apple_stock\n",
    "\n",
    "\n",
    "if __name__ == \"__main__\":\n",
    "    apple_stock()"
   ]
  },
  {
   "cell_type": "code",
   "execution_count": null,
   "metadata": {},
   "outputs": [],
   "source": []
  }
 ],
 "metadata": {
  "kernelspec": {
   "display_name": "Python 3",
   "language": "python",
   "name": "python3"
  },
  "language_info": {
   "codemirror_mode": {
    "name": "ipython",
    "version": 3
   },
   "file_extension": ".py",
   "mimetype": "text/x-python",
   "name": "python",
   "nbconvert_exporter": "python",
   "pygments_lexer": "ipython3",
   "version": "3.8.3"
  }
 },
 "nbformat": 4,
 "nbformat_minor": 4
}
