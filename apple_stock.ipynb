{
 "cells": [
  {
   "cell_type": "code",
   "execution_count": 8,
   "metadata": {},
   "outputs": [
    {
     "name": "stdout",
     "output_type": "stream",
     "text": [
      "\n",
      "Apple Stock (Ticker AAPL) Closing Values:\n",
      "\n",
      "Date                Close Value\n",
      "\n",
      "Oct 23, 2020        115.04    \n",
      "Oct 22, 2020        115.75    \n",
      "Oct 21, 2020        116.87    \n",
      "Oct 20, 2020        117.51    \n",
      "Oct 19, 2020        115.98    \n",
      "Oct 16, 2020        119.02    \n",
      "Oct 15, 2020        120.71    \n",
      "Oct 14, 2020        121.19    \n",
      "Oct 13, 2020        121.10    \n",
      "Oct 12, 2020        124.40    \n",
      "Oct 09, 2020        116.97    \n",
      "Oct 08, 2020        114.97    \n",
      "Oct 07, 2020        115.08    \n",
      "Oct 06, 2020        113.16    \n",
      "Oct 05, 2020        116.50    \n",
      "Oct 02, 2020        113.02    \n",
      "Oct 01, 2020        116.79    \n",
      "Sep 30, 2020        115.81    \n",
      "Sep 29, 2020        114.09    \n",
      "Sep 28, 2020        114.96    \n",
      "Sep 25, 2020        112.28    \n",
      "Sep 24, 2020        108.22    \n",
      "Sep 23, 2020        107.12    \n",
      "Sep 22, 2020        111.81    \n",
      "Sep 21, 2020        110.08    \n",
      "Sep 18, 2020        106.84    \n",
      "Sep 17, 2020        110.34    \n",
      "Sep 16, 2020        112.13    \n",
      "Sep 15, 2020        115.54    \n",
      "Sep 14, 2020        115.36    \n",
      "Sep 11, 2020        112.00    \n",
      "Sep 10, 2020        113.49    \n",
      "Sep 09, 2020        117.32    \n",
      "Sep 08, 2020        112.82    \n",
      "Sep 04, 2020        120.96    \n",
      "Sep 03, 2020        120.88    \n",
      "Sep 02, 2020        131.40    \n",
      "Sep 01, 2020        134.18    \n",
      "Aug 31, 2020        129.04    \n"
     ]
    },
    {
     "ename": "SystemExit",
     "evalue": "",
     "output_type": "error",
     "traceback": [
      "An exception has occurred, use %tb to see the full traceback.\n",
      "\u001b[1;31mSystemExit\u001b[0m\n"
     ]
    }
   ],
   "source": [
    "#Gabriel Santos IS-211 10/24/2020\n",
    "import sys\n",
    "import requests\n",
    "from bs4 import BeautifulSoup as soup\n",
    "\n",
    "\n",
    "def get_url_html(url):\n",
    "    user_agent = 'Mozilla/5.0 (Windows NT 10.0; Win64; x64) AppleWebKit/537.36 (KHTML, like Gecko) Chrome/83.0.4103.116 Safari/537.36'\n",
    "    headers = { 'User-Agent' : user_agent }\n",
    "    req = requests.get(url, headers=headers).content\n",
    "    html = soup(str(req), 'lxml')\n",
    "    return html\n",
    "\n",
    "def print_aapl_hist(appl_close):\n",
    "    print(\"\\nApple Stock (Ticker AAPL) Closing Values:\\n\")\n",
    "    print(\"{:<20}{:<10}\".format('Date', 'Close Value\\n'))\n",
    "    for aapl in appl_close:\n",
    "        print(\"{:<20}{:<10}\".format(aapl[0], aapl[1]))\n",
    "\n",
    "\n",
    "def get_appl_close(html):\n",
    "    rows = html.findAll('tr', attrs={'BdT Bdc($seperatorColor) Ta(end) Fz(s) Whs(nw)'})\n",
    "    appl_close=[]\n",
    "    for row in rows:\n",
    "        try:\n",
    "            close_date = row.findAll('span')[0].text.strip()\n",
    "            close_value = row.findAll('span')[4].text.strip()\n",
    "            appl_close.append([close_date, close_value])\n",
    "        except:\n",
    "            break\n",
    "    return appl_close\n",
    "\n",
    "\n",
    "def main():\n",
    "    url = 'https://finance.yahoo.com/quote/AAPL/history?p=AAPL'# didnt work with nasdaq\n",
    "    html = get_url_html(url)\n",
    "    appl_close = get_appl_close(html)\n",
    "    print_aapl_hist(appl_close)\n",
    "    sys.exit()\n",
    "\n",
    "if __name__ == '__main__':\n",
    "    main()"
   ]
  },
  {
   "cell_type": "code",
   "execution_count": null,
   "metadata": {},
   "outputs": [],
   "source": []
  }
 ],
 "metadata": {
  "kernelspec": {
   "display_name": "Python 3",
   "language": "python",
   "name": "python3"
  },
  "language_info": {
   "codemirror_mode": {
    "name": "ipython",
    "version": 3
   },
   "file_extension": ".py",
   "mimetype": "text/x-python",
   "name": "python",
   "nbconvert_exporter": "python",
   "pygments_lexer": "ipython3",
   "version": "3.8.3"
  }
 },
 "nbformat": 4,
 "nbformat_minor": 4
}
