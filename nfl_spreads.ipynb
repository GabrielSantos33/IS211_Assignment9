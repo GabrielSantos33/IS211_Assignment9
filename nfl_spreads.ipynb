{
 "cells": [
  {
   "cell_type": "code",
   "execution_count": 7,
   "metadata": {},
   "outputs": [
    {
     "name": "stdout",
     "output_type": "stream",
     "text": [
      "Cleveland At Cincinnati -3.5\n",
      "At Washington Dallas  PK\n",
      "At Atlanta Detroit -2.5\n",
      "At New Orleans Carolina -7.5\n",
      "Buffalo At NY Jets -12\n",
      "Green Bay At Houston -3.5\n",
      "Seattle At Arizona -3.5\n",
      "At New England San Francisco -2\n",
      "Kansas City At Denver -9.5\n",
      "Tampa Bay At Las Vegas -3.5\n",
      "At Tennessee Pittsburgh -1\n",
      "At LA Chargers Jacksonville -8\n",
      "\n",
      "\n"
     ]
    }
   ],
   "source": [
    "#Gabriel Santos IS-211 10/24/2020\n",
    "from urllib.request import urlopen as uReq\n",
    "from bs4 import BeautifulSoup as souP\n",
    "\n",
    "\n",
    "def open_url(url):\n",
    "    with uReq(url) as response:\n",
    "        html = response.read()\n",
    "    return html\n",
    "\n",
    "\n",
    "def make_soup(response):\n",
    "    soup = souP(response, features='lxml')\n",
    "    soup_table = soup.find('table', {'cols': '4'})\n",
    "    soup_rows = soup_table.find_all('tr')[1:]\n",
    "    return soup_rows\n",
    "\n",
    "\n",
    "def displaydata(scrapped_data):\n",
    "    display = '{:^20} | {:^20} | {:^10}'\n",
    "    row_list = []\n",
    "    for game in scrapped_data:\n",
    "        row_list.append(game.text.splitlines())\n",
    "    for row in row_list:\n",
    "        print(row[2], row[4], row[3])\n",
    "    print('\\n')\n",
    "\n",
    "def main():\n",
    "    url = 'http://www.footballlocks.com/nfl_point_spreads.shtml'\n",
    "    url_response = open_url(url)\n",
    "    stats = make_soup(url_response)\n",
    "    displaydata(stats)\n",
    "\n",
    "if __name__ == '__main__':\n",
    "    main()"
   ]
  },
  {
   "cell_type": "code",
   "execution_count": null,
   "metadata": {},
   "outputs": [],
   "source": []
  }
 ],
 "metadata": {
  "kernelspec": {
   "display_name": "Python 3",
   "language": "python",
   "name": "python3"
  },
  "language_info": {
   "codemirror_mode": {
    "name": "ipython",
    "version": 3
   },
   "file_extension": ".py",
   "mimetype": "text/x-python",
   "name": "python",
   "nbconvert_exporter": "python",
   "pygments_lexer": "ipython3",
   "version": "3.8.3"
  }
 },
 "nbformat": 4,
 "nbformat_minor": 4
}
