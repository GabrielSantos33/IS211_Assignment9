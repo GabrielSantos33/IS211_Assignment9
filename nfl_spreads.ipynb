{
 "cells": [
  {
   "cell_type": "code",
   "execution_count": 1,
   "metadata": {},
   "outputs": [
    {
     "name": "stdout",
     "output_type": "stream",
     "text": [
      "\n",
      "[\"Players\", \"Positions\", \"Touchdowns\", \"Teams\"]\n"
     ]
    }
   ],
   "source": [
    "import urllib.request\n",
    "from bs4 import BeautifulSoup\n",
    "import json\n",
    "import html.parser\n",
    "\n",
    "url = 'http://www.footballlocks.com/nfl_point_spreads.shtml'\n",
    "page = urllib.request.urlopen(url)\n",
    "features = html.parser\n",
    "soup = BeautifulSoup(page.read())\n",
    "print(\"\\n[\\\"Players\\\", \\\"Positions\\\", \\\"Touchdowns\\\", \\\"Teams\\\"]\")\n",
    "def NFLPlayerStatistics():\n",
    "    touchdown_list = []\n",
    "    fhandler = soup.find_all(class_= {'row1', 'row2'})\n",
    "\n",
    "    for touchdowns in fhandler[:20]:\n",
    "        try:\n",
    "            player = touchdowns.contents[0].get_text()\n",
    "            position = touchdowns.contents[1].get_text()\n",
    "            touch_downs = touchdowns.contents[6].get_text()\n",
    "            team = touchdowns.contents[2].get_text()\n",
    "            tdplayers = (player, position, touch_downs, team)\n",
    "            print(json.dumps(tdplayers))\n",
    "\n",
    "        except:\n",
    "            print ('Bad URL')\n",
    "            continue\n",
    "\n",
    "    return touchdown_list\n",
    "\n",
    "if __name__ == \"__main__\":\n",
    "    NFLPlayerStatistics()"
   ]
  },
  {
   "cell_type": "code",
   "execution_count": null,
   "metadata": {},
   "outputs": [],
   "source": []
  }
 ],
 "metadata": {
  "kernelspec": {
   "display_name": "Python 3",
   "language": "python",
   "name": "python3"
  },
  "language_info": {
   "codemirror_mode": {
    "name": "ipython",
    "version": 3
   },
   "file_extension": ".py",
   "mimetype": "text/x-python",
   "name": "python",
   "nbconvert_exporter": "python",
   "pygments_lexer": "ipython3",
   "version": "3.8.3"
  }
 },
 "nbformat": 4,
 "nbformat_minor": 4
}
